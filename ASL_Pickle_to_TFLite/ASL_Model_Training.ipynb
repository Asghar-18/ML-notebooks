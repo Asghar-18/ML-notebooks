{
  "cells": [
    {
      "cell_type": "markdown",
      "metadata": {
        "id": "mLXlVD-UV2LX"
      },
      "source": [
        "# 1. Title and Description"
      ]
    },
    {
      "cell_type": "markdown",
      "metadata": {
        "id": "PaVdcB9XVzVp"
      },
      "source": [
        "### From Pickle to TFLite: ASL Hand Gesture Recognition Model\n",
        "\n",
        "This notebook loads American Sign Language (ASL) hand landmark data from a `.pickle` file, trains a neural network classifier, and exports the model in both TensorFlow (`.h5`) and TensorFlow Lite (`.tflite`) formats. It also saves the label encoder for future use in real-time gesture recognition applications.\n"
      ]
    },
    {
      "cell_type": "markdown",
      "metadata": {
        "id": "RxuvuN65WCvj"
      },
      "source": [
        "# 2. Imports"
      ]
    },
    {
      "cell_type": "code",
      "execution_count": null,
      "metadata": {
        "id": "NGO8XY-ZWIhQ"
      },
      "outputs": [],
      "source": [
        "import pickle\n",
        "import numpy as np\n",
        "import tensorflow as tf\n",
        "from tensorflow import keras\n",
        "from sklearn.model_selection import train_test_split\n",
        "from sklearn.preprocessing import LabelEncoder"
      ]
    },
    {
      "cell_type": "markdown",
      "metadata": {
        "id": "amCmkFpWWKZB"
      },
      "source": [
        "# 3. Load Dataset"
      ]
    },
    {
      "cell_type": "code",
      "execution_count": null,
      "metadata": {
        "id": "BIz9UConWNjT"
      },
      "outputs": [],
      "source": [
        "# Load the dataset from a pickle file\n",
        "with open(\"./ASL.pickle\", \"rb\") as f:\n",
        "    dataset = pickle.load(f)\n",
        "\n",
        "# Convert to NumPy arrays\n",
        "data = np.asarray(dataset[\"dataset\"], dtype=np.float32)\n",
        "labels = np.asarray(dataset[\"labels\"])"
      ]
    },
    {
      "cell_type": "markdown",
      "metadata": {
        "id": "tq21BFIQWQdj"
      },
      "source": [
        "# 4. Encode Labels"
      ]
    },
    {
      "cell_type": "code",
      "execution_count": null,
      "metadata": {
        "id": "GWJ0js8AWTg3"
      },
      "outputs": [],
      "source": [
        "# Encode string labels into integers\n",
        "label_encoder = LabelEncoder()\n",
        "y = label_encoder.fit_transform(labels)"
      ]
    },
    {
      "cell_type": "markdown",
      "metadata": {
        "id": "cATrOooJWU_r"
      },
      "source": [
        "# 5. Train-Test Split"
      ]
    },
    {
      "cell_type": "code",
      "execution_count": null,
      "metadata": {
        "id": "nUWZ4NBAWVIV"
      },
      "outputs": [],
      "source": [
        "# Split data into training and testing sets\n",
        "X_train, X_test, y_train, y_test = train_test_split(\n",
        "    data, y, test_size=0.2, shuffle=True, stratify=y, random_state=42\n",
        ")"
      ]
    },
    {
      "cell_type": "markdown",
      "metadata": {
        "id": "sDkXhgaTWVNe"
      },
      "source": [
        "# 6. Build the Model"
      ]
    },
    {
      "cell_type": "code",
      "execution_count": null,
      "metadata": {
        "id": "w-vFtZFNWVRQ"
      },
      "outputs": [],
      "source": [
        "# Define a simple feedforward neural network\n",
        "model = keras.Sequential([\n",
        "    keras.layers.Input(shape=(42,)),  # 21 landmarks × 2 (x, y)\n",
        "    keras.layers.Dense(128, activation='relu'),\n",
        "    keras.layers.Dense(64, activation='relu'),\n",
        "    keras.layers.Dense(len(label_encoder.classes_), activation='softmax')\n",
        "])"
      ]
    },
    {
      "cell_type": "markdown",
      "metadata": {
        "id": "u-s3bt4mWVVA"
      },
      "source": [
        "# 7. Compile and Train"
      ]
    },
    {
      "cell_type": "code",
      "execution_count": null,
      "metadata": {
        "id": "-lAcIiK8WVYJ"
      },
      "outputs": [],
      "source": [
        "# Compile the model\n",
        "model.compile(optimizer='adam', loss='sparse_categorical_crossentropy', metrics=['accuracy'])\n",
        "\n",
        "# Train the model\n",
        "model.fit(X_train, y_train, epochs=20, batch_size=32, validation_data=(X_test, y_test))"
      ]
    },
    {
      "cell_type": "markdown",
      "metadata": {
        "id": "gGG5owBsWqM9"
      },
      "source": [
        "# 8. Save TensorFlow Model"
      ]
    },
    {
      "cell_type": "code",
      "execution_count": null,
      "metadata": {
        "id": "-HIzEUdnXI_7"
      },
      "outputs": [],
      "source": [
        "# Save the trained model\n",
        "model.save(\"./ASL_model.h5\")"
      ]
    },
    {
      "cell_type": "markdown",
      "metadata": {
        "id": "lWAE5US6WqSw"
      },
      "source": [
        " # 9. Convert to TFLite"
      ]
    },
    {
      "cell_type": "code",
      "execution_count": null,
      "metadata": {
        "id": "gViJEx_wWqZV"
      },
      "outputs": [],
      "source": [
        "# Convert to TFLite format\n",
        "converter = tf.lite.TFLiteConverter.from_keras_model(model)\n",
        "tflite_model = converter.convert()\n",
        "\n",
        "# Save the TFLite model\n",
        "with open(\"./ASL_model.tflite\", \"wb\") as f:\n",
        "    f.write(tflite_model)\n"
      ]
    },
    {
      "cell_type": "markdown",
      "metadata": {
        "id": "W9hLxlsPWqfP"
      },
      "source": [
        "# 10. Save Label Encoder"
      ]
    },
    {
      "cell_type": "code",
      "execution_count": null,
      "metadata": {
        "id": "7i3Lz0srWqmm"
      },
      "outputs": [],
      "source": [
        "# Save the label encoder for future use\n",
        "with open(\"./label_encoder.pickle\", \"wb\") as f:\n",
        "    pickle.dump(label_encoder, f)"
      ]
    },
    {
      "cell_type": "markdown",
      "metadata": {
        "id": "NDXLW6ppXflL"
      },
      "source": [
        "# 11. Test Label Encoder Loading (Optional)"
      ]
    },
    {
      "cell_type": "code",
      "execution_count": null,
      "metadata": {
        "id": "yxoaNyNRXfqe"
      },
      "outputs": [],
      "source": [
        "# Load and print stored labels (for verification)\n",
        "with open(\"label_encoder2.pickle\", \"rb\") as file:\n",
        "    label_encoder = pickle.load(file)\n",
        "\n",
        "print(\"Classes:\", label_encoder.classes_)"
      ]
    }
  ],
  "metadata": {
    "colab": {
      "provenance": []
    },
    "kernelspec": {
      "display_name": "Python 3",
      "name": "python3"
    },
    "language_info": {
      "name": "python"
    }
  },
  "nbformat": 4,
  "nbformat_minor": 0
}
